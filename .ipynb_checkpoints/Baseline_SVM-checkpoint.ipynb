{
 "cells": [
  {
   "cell_type": "code",
   "execution_count": 9,
   "metadata": {
    "collapsed": true
   },
   "outputs": [],
   "source": [
    "from svmutil import *\n",
    "import numpy as np\n",
    "import random\n",
    "from sklearn import metrics"
   ]
  },
  {
   "cell_type": "code",
   "execution_count": 10,
   "metadata": {
    "collapsed": true
   },
   "outputs": [],
   "source": [
    "def file_read(data_dir):\n",
    "    f = open(data_dir, 'r')\n",
    "    lines = f.readlines()\n",
    "    feature = tuple(lines[0].split('\\t')[1:])\n",
    "    samples = []\n",
    "    data = np.zeros([100,len(feature)])\n",
    "    for i, line in enumerate(lines):\n",
    "        if i != 0:\n",
    "            samples.append(line.split('\\t')[0])\n",
    "            data[i-1,:] = line.split('\\t')[1:]\n",
    "    f.close()\n",
    "    return data, feature, samples"
   ]
  },
  {
   "cell_type": "code",
   "execution_count": 56,
   "metadata": {
    "collapsed": true
   },
   "outputs": [],
   "source": [
    "rna_data, rna_feature, samples = file_read('../../data/ADD_cor_and_rna_0.15.site.ham21.ham17.ssi')\n",
    "beta_data, beta_feature, _ = file_read('../../data/ADD_cor_and_beta_0.35.site.ham21.ham17.ssi')"
   ]
  },
  {
   "cell_type": "code",
   "execution_count": 57,
   "metadata": {
    "collapsed": true
   },
   "outputs": [],
   "source": [
    "data = np.column_stack((rna_data,beta_data))\n",
    "feature = rna_feature + beta_feature"
   ]
  },
  {
   "cell_type": "code",
   "execution_count": 58,
   "metadata": {},
   "outputs": [
    {
     "name": "stdout",
     "output_type": "stream",
     "text": [
      "('size of label:', 100)\n",
      "('# of MDD:', 44)\n",
      "('# of normal sample:', 56)\n"
     ]
    }
   ],
   "source": [
    "label = np.zeros(100)\n",
    "for i,sample in enumerate(samples):\n",
    "    if 'sdpc' in sample:\n",
    "        label[i] = 0\n",
    "    else:\n",
    "        label[i] = 1\n",
    "print(\"size of label:\", len(label))\n",
    "print(\"# of MDD:\", len(label) - len(np.nonzero(label)[0]))\n",
    "print(\"# of normal sample:\",len(np.nonzero(label)[0]))"
   ]
  },
  {
   "cell_type": "code",
   "execution_count": 59,
   "metadata": {
    "collapsed": true
   },
   "outputs": [],
   "source": [
    "idx = np.arange(100)\n",
    "np.random.shuffle(idx)\n",
    "#numpy to list\n",
    "x = data[idx].tolist()\n",
    "y = label[idx].tolist()"
   ]
  },
  {
   "cell_type": "code",
   "execution_count": 60,
   "metadata": {
    "collapsed": true
   },
   "outputs": [],
   "source": [
    "def cross_validation(x,y,portion):\n",
    "    t1 = 0.2*portion\n",
    "    t2 = 0.2*(portion+1)\n",
    "    train_x = x[:int(len(x)*t1)] + x[int(len(x)*(t2)):]\n",
    "    train_y = y[:int(len(x)*t1)] + y[int(len(x)*(t2)):]\n",
    "    test_x = x[int(len(x)*t1):int(len(x)*(t2))]\n",
    "    test_y = y[int(len(x)*t1):int(len(x)*(t2))]\n",
    "    return train_x, train_y, test_x, test_y"
   ]
  },
  {
   "cell_type": "code",
   "execution_count": 61,
   "metadata": {},
   "outputs": [
    {
     "name": "stdout",
     "output_type": "stream",
     "text": [
      "('# of train:', 80)\n",
      "('# of test:', 20)\n",
      "(0, '~', 20, '%')\n",
      "Accuracy = 90% (18/20) (classification)\n",
      "\n",
      "\n",
      "('# of train:', 80)\n",
      "('# of test:', 20)\n",
      "(20, '~', 40, '%')\n",
      "Accuracy = 70% (14/20) (classification)\n",
      "\n",
      "\n",
      "('# of train:', 80)\n",
      "('# of test:', 20)\n",
      "(40, '~', 60, '%')\n",
      "Accuracy = 75% (15/20) (classification)\n",
      "\n",
      "\n",
      "('# of train:', 80)\n",
      "('# of test:', 20)\n",
      "(60, '~', 80, '%')\n",
      "Accuracy = 95% (19/20) (classification)\n",
      "\n",
      "\n",
      "('# of train:', 80)\n",
      "('# of test:', 20)\n",
      "(80, '~', 100, '%')\n",
      "Accuracy = 85% (17/20) (classification)\n",
      "\n",
      "\n"
     ]
    }
   ],
   "source": [
    "acc = []\n",
    "auc = []\n",
    "for portion in range(int(1/0.2)):\n",
    "    train_x, train_y, test_x, test_y = cross_validation(x,y,portion)\n",
    "    print(\"# of train:\", len(train_x))\n",
    "    print(\"# of test:\", len(test_x))\n",
    "    print(portion*20,\"~\", (portion+1)*20, \"%\")\n",
    "    m = svm_train(train_y, train_x, '-s 1 -t 2 -c 4')\n",
    "    p_label, p_acc, p_val = svm_predict(test_y, test_x, m)\n",
    "    acc.append(p_acc[0])\n",
    "    fpr, tpr, thresholds = metrics.roc_curve(test_y, p_label, pos_label=1)\n",
    "    auc.append(metrics.auc(fpr, tpr))\n",
    "    print(\"\\n\")\n"
   ]
  },
  {
   "cell_type": "code",
   "execution_count": 62,
   "metadata": {},
   "outputs": [
    {
     "name": "stdout",
     "output_type": "stream",
     "text": [
      "83.0\n",
      "0.828278388278\n"
     ]
    }
   ],
   "source": [
    "print(sum(acc)/len(acc))\n",
    "print(sum(auc)/len(auc))"
   ]
  },
  {
   "cell_type": "markdown",
   "metadata": {},
   "source": [
    "# Analysis of SVM"
   ]
  },
  {
   "cell_type": "code",
   "execution_count": 7,
   "metadata": {},
   "outputs": [
    {
     "name": "stdout",
     "output_type": "stream",
     "text": [
      "('# of train:', 80)\n",
      "('# of test:', 20)\n",
      "(0, '~', 20)\n"
     ]
    }
   ],
   "source": [
    "portion = 0\n",
    "btrain_x, btrain_y, btest_x, btest_y = cross_validation(x,y,portion)\n",
    "print(\"# of train:\", len(train_x))\n",
    "print(\"# of test:\", len(test_x))\n",
    "print(portion*20,\"~\", (portion+1)*20)"
   ]
  },
  {
   "cell_type": "code",
   "execution_count": 8,
   "metadata": {},
   "outputs": [
    {
     "name": "stdout",
     "output_type": "stream",
     "text": [
      "Accuracy = 90% (18/20) (classification)\n"
     ]
    }
   ],
   "source": [
    "m = svm_train(btrain_y, btrain_x, '-s 1 -t 0 -c 4')\n",
    "p_label, p_acc, p_val = svm_predict(btest_y, btest_x, m)"
   ]
  },
  {
   "cell_type": "code",
   "execution_count": 99,
   "metadata": {},
   "outputs": [
    {
     "name": "stdout",
     "output_type": "stream",
     "text": [
      "0.85\n"
     ]
    }
   ],
   "source": [
    "fpr, tpr, thresholds = metrics.roc_curve(btest_y, p_label, pos_label=1)\n",
    "auc = metrics.auc(fpr, tpr)\n",
    "print auc"
   ]
  },
  {
   "cell_type": "code",
   "execution_count": 102,
   "metadata": {},
   "outputs": [
    {
     "name": "stdout",
     "output_type": "stream",
     "text": [
      "[0]\n"
     ]
    }
   ],
   "source": [
    "np.argwhere(np.array(p_label)!=np.array(best_y))[0][0]\n",
    "error_idx = np.argwhere(np.array(p_label)!=np.array(best_y))\n",
    "print error_idx"
   ]
  },
  {
   "cell_type": "code",
   "execution_count": null,
   "metadata": {
    "collapsed": true
   },
   "outputs": [],
   "source": []
  },
  {
   "cell_type": "code",
   "execution_count": 128,
   "metadata": {
    "collapsed": true
   },
   "outputs": [],
   "source": [
    "error_samples = []\n",
    "for idx in error_idx:\n",
    "    error_samples.append([btest_y[int(idx[0])]] + btest_x[int(idx[0])])"
   ]
  },
  {
   "cell_type": "markdown",
   "metadata": {},
   "source": [
    "# File Save"
   ]
  },
  {
   "cell_type": "code",
   "execution_count": 137,
   "metadata": {
    "collapsed": true
   },
   "outputs": [],
   "source": [
    "g = open('result_svm/error_samples.txt','w')\n",
    "g.write('option: -s 1 -t 0 -c 4 nu-SVC linear SVM ')\n",
    "g.write(str(20*portion) + ' ' + str(20*(portion+1))+'\\n')\n",
    "g.write('label\\t')\n",
    "for fe in feature:\n",
    "    g.write(fe)\n",
    "    g.write('\\t')"
   ]
  },
  {
   "cell_type": "code",
   "execution_count": 138,
   "metadata": {
    "collapsed": true
   },
   "outputs": [],
   "source": [
    "for sample in error_samples:\n",
    "    for x in sample:\n",
    "        g.write(str(x))\n",
    "        g.write('\\t')\n",
    "    g.write('\\n')\n",
    "g.close()"
   ]
  },
  {
   "cell_type": "code",
   "execution_count": 140,
   "metadata": {},
   "outputs": [
    {
     "data": {
      "text/plain": [
       "87"
      ]
     },
     "execution_count": 140,
     "metadata": {},
     "output_type": "execute_result"
    }
   ],
   "source": [
    "len(error_samples[1])"
   ]
  },
  {
   "cell_type": "code",
   "execution_count": null,
   "metadata": {
    "collapsed": true
   },
   "outputs": [],
   "source": []
  }
 ],
 "metadata": {
  "kernelspec": {
   "display_name": "Python 3",
   "language": "python",
   "name": "python3"
  },
  "language_info": {
   "codemirror_mode": {
    "name": "ipython",
    "version": 2
   },
   "file_extension": ".py",
   "mimetype": "text/x-python",
   "name": "python",
   "nbconvert_exporter": "python",
   "pygments_lexer": "ipython2",
   "version": "2.7.12"
  }
 },
 "nbformat": 4,
 "nbformat_minor": 2
}
